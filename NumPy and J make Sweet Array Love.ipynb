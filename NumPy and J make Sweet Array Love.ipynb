{
 "cells": [
  {
   "cell_type": "markdown",
   "metadata": {},
   "source": [
    "`NumPy` and J make Sweet Array Love\n",
    "-------------------------------------\n",
    "\n",
    "![](numpy-j-logo.png)"
   ]
  },
  {
   "cell_type": "markdown",
   "metadata": {},
   "source": [
    "### Import `NumPy` using the standard naming convention"
   ]
  },
  {
   "cell_type": "code",
   "execution_count": 1,
   "metadata": {},
   "outputs": [],
   "source": [
    "import numpy as np"
   ]
  },
  {
   "cell_type": "markdown",
   "metadata": {},
   "source": [
    "### Import the J `Python3 addon`\n",
    "\n",
    "To use the J Python3 addon you must edit path variables in `jbase.py` so Python can locate the J binaries. On my system I set:\n",
    "\n",
    "    # typical for windows install in home\n",
    "    pathbin= 'c:/j64/j64-807/bin'\n",
    "    pathdll= pathbin+'/j.dll'\n",
    "    pathpro= pathbin+'/profile.ijs'\n",
    "\n",
    "After adjusting paths insure `jbase.py` and `jcore.py` are on Python's search path. "
   ]
  },
  {
   "cell_type": "code",
   "execution_count": 2,
   "metadata": {},
   "outputs": [
    {
     "name": "stdout",
     "output_type": "stream",
     "text": [
      "\n",
      "usage:\n",
      " jbase.init(True)  # True (default) loads profile - False avoids\n",
      " \n",
      " jbase.dor('i.2 3 4')    # run sentence and print output result\n",
      " jbase.do(('+a.')        # run and return error code\n",
      " jbase.getr()            # get last output result\n",
      " jbase.do('abc=: i.2 3') # define abc\n",
      " q= jbase.get('abc')     # get q as numpy array from J array \n",
      " jbase.set('ghi',23+q)   # set J array from numpy array\n",
      " jbase.jdor('ghi')       # print array \n",
      " jbase.j()                # J repl - .... to exit\n",
      "\n",
      "types:\n",
      " python types supported: strings, bytes, numpy int64/float64 \n",
      " numpy arrays have shape\n",
      " json covers some other requirements\n",
      " \n",
      "Developed with Python 3.6.4 (Anaconda) and J807.\n",
      "\n",
      "Works with python kernel in Jupyiter.\n",
      "\n",
      "\n"
     ]
    }
   ],
   "source": [
    "import jbase as j\n",
    "print(j.jbase.__doc__)"
   ]
  },
  {
   "cell_type": "code",
   "execution_count": 3,
   "metadata": {},
   "outputs": [],
   "source": [
    "# start J - only one instance currently allowed\n",
    "j.init()"
   ]
  },
  {
   "cell_type": "code",
   "execution_count": 4,
   "metadata": {},
   "outputs": [
    {
     "name": "stdout",
     "output_type": "stream",
     "text": [
      " 0  1  2  3\n",
      " 4  5  6  7\n",
      " 8  9 10 11\n",
      "\n",
      "12 13 14 15\n",
      "16 17 18 19\n",
      "20 21 22 23\n"
     ]
    }
   ],
   "source": [
    "j.dor(\"i. 2 3 4\")  # run sentence and print output result"
   ]
  },
  {
   "cell_type": "code",
   "execution_count": 5,
   "metadata": {},
   "outputs": [
    {
     "name": "stdout",
     "output_type": "stream",
     "text": [
      "3\n"
     ]
    },
    {
     "data": {
      "text/plain": [
       "'|domain error\\n|       +a.\\n'"
      ]
     },
     "execution_count": 5,
     "metadata": {},
     "output_type": "execute_result"
    }
   ],
   "source": [
    "rc = j.do(('+a.'))  # run and return error code\n",
    "print(rc)\n",
    "j.getr()            # get last output result  "
   ]
  },
  {
   "cell_type": "code",
   "execution_count": 6,
   "metadata": {},
   "outputs": [
    {
     "name": "stdout",
     "output_type": "stream",
     "text": [
      "[[0 1 2]\n",
      " [3 4 5]]\n"
     ]
    }
   ],
   "source": [
    "j.do('abc=: i.2 3') # define abc\n",
    "q= j.get('abc')     # get q as numpy array from J array \n",
    "print (q)"
   ]
  },
  {
   "cell_type": "code",
   "execution_count": 7,
   "metadata": {},
   "outputs": [
    {
     "name": "stdout",
     "output_type": "stream",
     "text": [
      "23 24 25\n",
      "26 27 28\n"
     ]
    }
   ],
   "source": [
    "j.set('ghi',23+q)   # set J array from numpy array\n",
    "j.dor('ghi')        # print array (note typo in addon (j.__doc___)"
   ]
  },
  {
   "cell_type": "markdown",
   "metadata": {},
   "source": [
    "### Character data is passed as bytes. "
   ]
  },
  {
   "cell_type": "code",
   "execution_count": 8,
   "metadata": {},
   "outputs": [
    {
     "data": {
      "text/plain": [
       "b\"don't have a cow man\""
      ]
     },
     "execution_count": 8,
     "metadata": {},
     "output_type": "execute_result"
    }
   ],
   "source": [
    "j.do(\"cows =. 'don''t have a cow man'\")\n",
    "j.get('cows')"
   ]
  },
  {
   "cell_type": "code",
   "execution_count": 9,
   "metadata": {},
   "outputs": [
    {
     "name": "stdout",
     "output_type": "stream",
     "text": [
      "I do what I do because I am what I am!\n"
     ]
    }
   ],
   "source": [
    "ido = \"I do what I do because I am what I am!\"\n",
    "j.set(\"ido\", ido)\n",
    "j.dor(\"ido\")"
   ]
  },
  {
   "cell_type": "markdown",
   "metadata": {},
   "source": [
    "### j.j() enters a simple REPL \n",
    "\n",
    "Running j.j() opens a simple read, execute and reply loop with J.  Exit by typing `....`"
   ]
  },
  {
   "cell_type": "code",
   "execution_count": 10,
   "metadata": {},
   "outputs": [
    {
     "name": "stdout",
     "output_type": "stream",
     "text": [
      "   ....\n"
     ]
    }
   ],
   "source": [
    "j.j()"
   ]
  },
  {
   "cell_type": "markdown",
   "metadata": {},
   "source": [
    "### J accepts a subset of NumPy datatypes\n",
    "\n",
    "Passing datatypes that do not match the types the J addon supports is allowed but does not work as you might expect. "
   ]
  },
  {
   "cell_type": "code",
   "execution_count": 11,
   "metadata": {},
   "outputs": [],
   "source": [
    "# boolean numpy array\n",
    "p = np.array([True, False, True, True]).reshape(2,2)"
   ]
  },
  {
   "cell_type": "code",
   "execution_count": 12,
   "metadata": {},
   "outputs": [
    {
     "data": {
      "text/plain": [
       "array([[ True, False],\n",
       "       [ True,  True]])"
      ]
     },
     "execution_count": 12,
     "metadata": {},
     "output_type": "execute_result"
    }
   ],
   "source": [
    "p"
   ]
  },
  {
   "cell_type": "code",
   "execution_count": 13,
   "metadata": {},
   "outputs": [],
   "source": [
    "j.set(\"p\", p)"
   ]
  },
  {
   "cell_type": "code",
   "execution_count": 14,
   "metadata": {},
   "outputs": [
    {
     "name": "stdout",
     "output_type": "stream",
     "text": [
      "8.32143e_317 1.43709e_311\n",
      "           0  1.2732e_313\n"
     ]
    }
   ],
   "source": [
    "j.dor(\"p\")"
   ]
  },
  {
   "cell_type": "markdown",
   "metadata": {},
   "source": [
    "As you can see a round trip of numpy booleans generates digital noise.\n",
    "\n",
    "The only numpy datatypes J natively supports on Win64 systems are:\n",
    "\n",
    "1. np.int64\n",
    "\n",
    "2. np.float64\n",
    "\n",
    "3. simple character strings - passed as bytes\n",
    "\n",
    "To use other types it will be necessary to encode and decode them with Python and J helper functions. \n",
    "The limited datatype support is not as limiting as you might expect. The default `NumPy` array is\n",
    "`np.float64` on 64 bit systems and the majority of `NumPy` based packages manipulate floating point\n",
    "and integer arrays."
   ]
  },
  {
   "cell_type": "markdown",
   "metadata": {},
   "source": [
    "### NumPy and J are derivative Iverson Array Processing Notations\n",
    "\n",
    "The following `NumPy` examples are from the `SciPy.org's` \n",
    "[NumPy quick start tutorial](https://docs.scipy.org/doc/numpy-dev/user/quickstart.html). For each `NumPy` statement, I have provided a J equivalent"
   ]
  },
  {
   "cell_type": "markdown",
   "metadata": {},
   "source": [
    "### Creating simple arrays"
   ]
  },
  {
   "cell_type": "code",
   "execution_count": 15,
   "metadata": {},
   "outputs": [
    {
     "name": "stdout",
     "output_type": "stream",
     "text": [
      "[[ 0  1  2  3  4]\n",
      " [ 5  6  7  8  9]\n",
      " [10 11 12 13 14]]\n"
     ]
    }
   ],
   "source": [
    "# numpy\n",
    "a = np.arange(15).reshape(3, 5)\n",
    "print(a)"
   ]
  },
  {
   "cell_type": "code",
   "execution_count": 16,
   "metadata": {},
   "outputs": [
    {
     "name": "stdout",
     "output_type": "stream",
     "text": [
      " 0  1  2  3  4\n",
      " 5  6  7  8  9\n",
      "10 11 12 13 14\n"
     ]
    }
   ],
   "source": [
    "# J\n",
    "j.do(\"a =. 3 5 $ i. 15\")\n",
    "j.dor(\"a\")"
   ]
  },
  {
   "cell_type": "code",
   "execution_count": 17,
   "metadata": {},
   "outputs": [
    {
     "name": "stdout",
     "output_type": "stream",
     "text": [
      "[2 3 4]\n"
     ]
    }
   ],
   "source": [
    "# numpy\n",
    "a = np.array([2,3,4])\n",
    "print(a)"
   ]
  },
  {
   "cell_type": "code",
   "execution_count": 18,
   "metadata": {},
   "outputs": [
    {
     "name": "stdout",
     "output_type": "stream",
     "text": [
      "2 3 4\n"
     ]
    }
   ],
   "source": [
    "# J\n",
    "j.do(\"a =. 2 3 4\")\n",
    "j.dor(\"a\")"
   ]
  },
  {
   "cell_type": "code",
   "execution_count": 19,
   "metadata": {},
   "outputs": [
    {
     "name": "stdout",
     "output_type": "stream",
     "text": [
      "[[1.5 2.  3. ]\n",
      " [4.  5.  6. ]]\n"
     ]
    }
   ],
   "source": [
    "# numpy\n",
    "b = np.array([(1.5,2,3), (4,5,6)])\n",
    "print(b)"
   ]
  },
  {
   "cell_type": "code",
   "execution_count": 20,
   "metadata": {},
   "outputs": [
    {
     "name": "stdout",
     "output_type": "stream",
     "text": [
      "1.5 2 3\n",
      "  4 5 6\n"
     ]
    }
   ],
   "source": [
    "# J\n",
    "j.do(\"b =. 1.5 2 3 ,: 4 5 6\")\n",
    "j.dor(\"b\")"
   ]
  },
  {
   "cell_type": "code",
   "execution_count": 21,
   "metadata": {},
   "outputs": [
    {
     "name": "stdout",
     "output_type": "stream",
     "text": [
      "[[1.+0.j 2.+0.j]\n",
      " [3.+0.j 4.+0.j]]\n"
     ]
    }
   ],
   "source": [
    "# numpy\n",
    "c = np.array( [ [1,2], [3,4] ], dtype=complex )\n",
    "print(c)"
   ]
  },
  {
   "cell_type": "code",
   "execution_count": 22,
   "metadata": {},
   "outputs": [
    {
     "name": "stdout",
     "output_type": "stream",
     "text": [
      "1 2\n",
      "3 4\n",
      "complex\n"
     ]
    }
   ],
   "source": [
    "# J\n",
    "j.do(\"c =. 0 j.~ 1 2 ,: 3 4\")\n",
    "j.dor(\"c\")           # does not show as complex\n",
    "j.dor(\"datatype c\")  # c is complex "
   ]
  },
  {
   "cell_type": "code",
   "execution_count": 23,
   "metadata": {},
   "outputs": [
    {
     "data": {
      "text/plain": [
       "array([[1.+4.7j, 2.+4.7j],\n",
       "       [3.+4.7j, 4.+4.7j]])"
      ]
     },
     "execution_count": 23,
     "metadata": {},
     "output_type": "execute_result"
    }
   ],
   "source": [
    "# numpy - make complex numbers with nonzero real and imaginary parts\n",
    "c + (0+4.7j)"
   ]
  },
  {
   "cell_type": "code",
   "execution_count": 24,
   "metadata": {},
   "outputs": [
    {
     "name": "stdout",
     "output_type": "stream",
     "text": [
      "1j4.7 2j4.7\n",
      "3j4.7 4j4.7\n"
     ]
    }
   ],
   "source": [
    "# J - also for J\n",
    "j.dor(\"c + 0j4.7\")"
   ]
  },
  {
   "cell_type": "code",
   "execution_count": 25,
   "metadata": {},
   "outputs": [
    {
     "data": {
      "text/plain": [
       "array([[0., 0., 0., 0.],\n",
       "       [0., 0., 0., 0.],\n",
       "       [0., 0., 0., 0.]])"
      ]
     },
     "execution_count": 25,
     "metadata": {},
     "output_type": "execute_result"
    }
   ],
   "source": [
    "# numpy\n",
    "np.zeros( (3,4) )"
   ]
  },
  {
   "cell_type": "code",
   "execution_count": 26,
   "metadata": {},
   "outputs": [
    {
     "name": "stdout",
     "output_type": "stream",
     "text": [
      "0 0 0 0\n",
      "0 0 0 0\n",
      "0 0 0 0\n"
     ]
    }
   ],
   "source": [
    "# J\n",
    "j.dor(\"3 4 $ 0\")"
   ]
  },
  {
   "cell_type": "code",
   "execution_count": 27,
   "metadata": {},
   "outputs": [
    {
     "data": {
      "text/plain": [
       "array([[1.5, 2. , 3. ],\n",
       "       [4. , 5. , 6. ]])"
      ]
     },
     "execution_count": 27,
     "metadata": {},
     "output_type": "execute_result"
    }
   ],
   "source": [
    "# numpy - allocates array with whatever is in memory\n",
    "np.empty( (2,3) )"
   ]
  },
  {
   "cell_type": "code",
   "execution_count": 28,
   "metadata": {},
   "outputs": [
    {
     "name": "stdout",
     "output_type": "stream",
     "text": [
      "0.0001 0.0001 0.0001\n",
      "0.0001 0.0001 0.0001\n"
     ]
    }
   ],
   "source": [
    "# J - uses fill - safer but slower than numpy's trust memory method\n",
    "j.dor(\"2 3 $ 0.0001\") "
   ]
  },
  {
   "cell_type": "markdown",
   "metadata": {},
   "source": [
    "### Basic Operations"
   ]
  },
  {
   "cell_type": "code",
   "execution_count": 29,
   "metadata": {},
   "outputs": [
    {
     "name": "stdout",
     "output_type": "stream",
     "text": [
      "[20 29 38 47]\n"
     ]
    }
   ],
   "source": [
    "# numpy\n",
    "a = np.array( [20,30,40,50] )\n",
    "b = np.arange( 4 )\n",
    "c = a - b\n",
    "print(c)"
   ]
  },
  {
   "cell_type": "code",
   "execution_count": 30,
   "metadata": {},
   "outputs": [
    {
     "name": "stdout",
     "output_type": "stream",
     "text": [
      "20 29 38 47\n"
     ]
    }
   ],
   "source": [
    "# J\n",
    "j.do(\"a =. 20 30 40 50\")\n",
    "j.do(\"b =. i. 4\")\n",
    "j.do(\"c =. a - b\")\n",
    "j.dor(\"c\")"
   ]
  },
  {
   "cell_type": "code",
   "execution_count": 31,
   "metadata": {},
   "outputs": [
    {
     "data": {
      "text/plain": [
       "array([0, 1, 4, 9], dtype=int32)"
      ]
     },
     "execution_count": 31,
     "metadata": {},
     "output_type": "execute_result"
    }
   ],
   "source": [
    "# numpy - uses previously defined (b)\n",
    "b ** 2"
   ]
  },
  {
   "cell_type": "code",
   "execution_count": 32,
   "metadata": {},
   "outputs": [
    {
     "name": "stdout",
     "output_type": "stream",
     "text": [
      "0 1 4 9\n"
     ]
    }
   ],
   "source": [
    "# J\n",
    "j.dor(\"b ^ 2\")"
   ]
  },
  {
   "cell_type": "code",
   "execution_count": 33,
   "metadata": {},
   "outputs": [
    {
     "data": {
      "text/plain": [
       "array([ 9.12945251, -9.88031624,  7.4511316 , -2.62374854])"
      ]
     },
     "execution_count": 33,
     "metadata": {},
     "output_type": "execute_result"
    }
   ],
   "source": [
    "# numpy - uses previously defined (a)\n",
    "10 * np.sin(a)"
   ]
  },
  {
   "cell_type": "code",
   "execution_count": 34,
   "metadata": {},
   "outputs": [
    {
     "name": "stdout",
     "output_type": "stream",
     "text": [
      "9.12945 _9.88032 7.45113 _2.62375\n"
     ]
    }
   ],
   "source": [
    "# J\n",
    "j.dor(\"10 * 1 o. a\")"
   ]
  },
  {
   "cell_type": "code",
   "execution_count": 35,
   "metadata": {},
   "outputs": [
    {
     "data": {
      "text/plain": [
       "array([ True,  True, False, False])"
      ]
     },
     "execution_count": 35,
     "metadata": {},
     "output_type": "execute_result"
    }
   ],
   "source": [
    "# numpy - booleans are True and False\n",
    "a < 35"
   ]
  },
  {
   "cell_type": "code",
   "execution_count": 36,
   "metadata": {},
   "outputs": [
    {
     "name": "stdout",
     "output_type": "stream",
     "text": [
      "1 1 0 0\n"
     ]
    }
   ],
   "source": [
    "# J - booleans are 1 and 0\n",
    "j.dor(\"a < 35\")"
   ]
  },
  {
   "cell_type": "markdown",
   "metadata": {},
   "source": [
    "### Array Processing"
   ]
  },
  {
   "cell_type": "code",
   "execution_count": 37,
   "metadata": {},
   "outputs": [
    {
     "data": {
      "text/plain": [
       "array([[2, 0],\n",
       "       [0, 4]])"
      ]
     },
     "execution_count": 37,
     "metadata": {},
     "output_type": "execute_result"
    }
   ],
   "source": [
    "# numpy\n",
    "a = np.array( [[1,1], [0,1]] )\n",
    "b = np.array( [[2,0], [3,4]] )\n",
    "\n",
    "# elementwise product\n",
    "a * b"
   ]
  },
  {
   "cell_type": "code",
   "execution_count": 38,
   "metadata": {},
   "outputs": [
    {
     "name": "stdout",
     "output_type": "stream",
     "text": [
      "2 0\n",
      "0 4\n"
     ]
    }
   ],
   "source": [
    "# J\n",
    "j.do(\"a =. 1 1 ,: 0 1\")\n",
    "j.do(\"b =. 2 0 ,: 3 4\")\n",
    "j.dor(\"a * b\")"
   ]
  },
  {
   "cell_type": "code",
   "execution_count": 39,
   "metadata": {},
   "outputs": [
    {
     "data": {
      "text/plain": [
       "array([[5, 4],\n",
       "       [3, 4]])"
      ]
     },
     "execution_count": 39,
     "metadata": {},
     "output_type": "execute_result"
    }
   ],
   "source": [
    "# numpy - matrix product\n",
    "np.dot(a, b)"
   ]
  },
  {
   "cell_type": "code",
   "execution_count": 40,
   "metadata": {},
   "outputs": [
    {
     "name": "stdout",
     "output_type": "stream",
     "text": [
      "5 4\n",
      "3 4\n"
     ]
    }
   ],
   "source": [
    "# J - matrix product\n",
    "j.dor(\"a +/ . * b\")"
   ]
  },
  {
   "cell_type": "code",
   "execution_count": 41,
   "metadata": {},
   "outputs": [
    {
     "name": "stdout",
     "output_type": "stream",
     "text": [
      "[[9.54857915e-01 9.94883026e-01 6.86324081e-04]\n",
      " [8.22142455e-01 8.10548571e-01 6.87469915e-01]]\n"
     ]
    }
   ],
   "source": [
    "# numpy - uniform pseudo random - seeds are different in Python and J processes - results will differ\n",
    "a = np.random.random( (2,3) )\n",
    "print(a)"
   ]
  },
  {
   "cell_type": "code",
   "execution_count": 42,
   "metadata": {},
   "outputs": [
    {
     "name": "stdout",
     "output_type": "stream",
     "text": [
      "0.038363  0.329284 0.335644\n",
      "0.985972 0.0583756 0.282326\n"
     ]
    }
   ],
   "source": [
    "# J - uniform pseudo random\n",
    "j.dor(\"?. 2 3 $ 0\")"
   ]
  },
  {
   "cell_type": "code",
   "execution_count": 43,
   "metadata": {},
   "outputs": [
    {
     "data": {
      "text/plain": [
       "4950"
      ]
     },
     "execution_count": 43,
     "metadata": {},
     "output_type": "execute_result"
    }
   ],
   "source": [
    "# numpy - sum all array elements - implicit ravel\n",
    "a = np.arange(100).reshape(20,5)\n",
    "a.sum()"
   ]
  },
  {
   "cell_type": "code",
   "execution_count": 44,
   "metadata": {},
   "outputs": [
    {
     "name": "stdout",
     "output_type": "stream",
     "text": [
      "4950\n"
     ]
    }
   ],
   "source": [
    "# j - sum all array elements - explicit ravel\n",
    "j.dor(\"+/ , 20 5 $ i.100\")"
   ]
  },
  {
   "cell_type": "code",
   "execution_count": 45,
   "metadata": {},
   "outputs": [
    {
     "name": "stdout",
     "output_type": "stream",
     "text": [
      "[[ 0  1  2  3]\n",
      " [ 4  5  6  7]\n",
      " [ 8  9 10 11]]\n",
      "[12 15 18 21]\n",
      "[0 4 8]\n",
      "[[ 0  1  3  6]\n",
      " [ 4  9 15 22]\n",
      " [ 8 17 27 38]]\n",
      "[[ 0  4  8]\n",
      " [ 1  5  9]\n",
      " [ 2  6 10]\n",
      " [ 3  7 11]]\n"
     ]
    }
   ],
   "source": [
    "# numpy\n",
    "b = np.arange(12).reshape(3,4)\n",
    "print(b)\n",
    "# sum of each column\n",
    "print(b.sum(axis=0))\n",
    "# min of each row\n",
    "print(b.min(axis=1))\n",
    "# cumulative sum along each row\n",
    "print(b.cumsum(axis=1))\n",
    "# transpose\n",
    "print(b.T) "
   ]
  },
  {
   "cell_type": "code",
   "execution_count": 46,
   "metadata": {},
   "outputs": [
    {
     "name": "stdout",
     "output_type": "stream",
     "text": [
      "0 1  2  3\n",
      "4 5  6  7\n",
      "8 9 10 11\n",
      "12 15 18 21\n",
      "0 4 8\n",
      "0  1  3  6\n",
      "4  9 15 22\n",
      "8 17 27 38\n",
      "0 4  8\n",
      "1 5  9\n",
      "2 6 10\n",
      "3 7 11\n"
     ]
    }
   ],
   "source": [
    "# J \n",
    "j.do(\"b =. 3 4 $ i. 12\")\n",
    "j.dor(\"b\")\n",
    "# sum of each column\n",
    "j.dor(\"+/ b\")\n",
    "# min of each row\n",
    "j.dor('<./\"1 b')\n",
    "# cumulative sum along each row\n",
    "j.dor('+/\\\\\"0 1 b')   # must escape \\ character to pass +/\\\"0 1 properly to J\n",
    "# transpose\n",
    "j.dor(\"|: b\")"
   ]
  },
  {
   "cell_type": "markdown",
   "metadata": {},
   "source": [
    "### Indexing and Slicing"
   ]
  },
  {
   "cell_type": "code",
   "execution_count": 47,
   "metadata": {},
   "outputs": [
    {
     "name": "stdout",
     "output_type": "stream",
     "text": [
      "8\n",
      "[ 8 27 64]\n",
      "[729 512 343 216 125  64  27   8   1   0]\n"
     ]
    }
   ],
   "source": [
    "# numpy \n",
    "a = np.arange(10) ** 3 \n",
    "print(a[2])\n",
    "print(a[2:5])\n",
    "print(a[ : :-1])   # reversal"
   ]
  },
  {
   "cell_type": "code",
   "execution_count": 48,
   "metadata": {},
   "outputs": [
    {
     "name": "stdout",
     "output_type": "stream",
     "text": [
      "8\n",
      "8 27 64\n",
      "729 512 343 216 125 64 27 8 1 0\n"
     ]
    }
   ],
   "source": [
    "# J\n",
    "j.do(\"a =. (i. 10) ^ 3\")\n",
    "j.dor(\"2 { a\")\n",
    "j.dor(\"(2 + i. 3) { a\")\n",
    "j.dor(\"|. a\")"
   ]
  },
  {
   "cell_type": "markdown",
   "metadata": {},
   "source": [
    "### Passing Larger Arrays\n",
    "\n",
    "Toy interfaces abound. Useful interfaces scale. The current addon is capable of passing\n",
    "large enough arrays for serious work. Useful subsets of J and `NumPy` arrays can be memory mapped. It wouldn't\n",
    "be difficult to memory map very large (gigabyte sized) `NumPy` arrays for J."
   ]
  },
  {
   "cell_type": "code",
   "execution_count": 49,
   "metadata": {},
   "outputs": [
    {
     "data": {
      "text/plain": [
       "array([ 0.00000000e+00,  6.34239197e-02,  1.26592454e-01,  1.89251244e-01,\n",
       "        2.51147987e-01,  3.12033446e-01,  3.71662456e-01,  4.29794912e-01,\n",
       "        4.86196736e-01,  5.40640817e-01,  5.92907929e-01,  6.42787610e-01,\n",
       "        6.90079011e-01,  7.34591709e-01,  7.76146464e-01,  8.14575952e-01,\n",
       "        8.49725430e-01,  8.81453363e-01,  9.09631995e-01,  9.34147860e-01,\n",
       "        9.54902241e-01,  9.71811568e-01,  9.84807753e-01,  9.93838464e-01,\n",
       "        9.98867339e-01,  9.99874128e-01,  9.96854776e-01,  9.89821442e-01,\n",
       "        9.78802446e-01,  9.63842159e-01,  9.45000819e-01,  9.22354294e-01,\n",
       "        8.95993774e-01,  8.66025404e-01,  8.32569855e-01,  7.95761841e-01,\n",
       "        7.55749574e-01,  7.12694171e-01,  6.66769001e-01,  6.18158986e-01,\n",
       "        5.67059864e-01,  5.13677392e-01,  4.58226522e-01,  4.00930535e-01,\n",
       "        3.42020143e-01,  2.81732557e-01,  2.20310533e-01,  1.58001396e-01,\n",
       "        9.50560433e-02,  3.17279335e-02, -3.17279335e-02, -9.50560433e-02,\n",
       "       -1.58001396e-01, -2.20310533e-01, -2.81732557e-01, -3.42020143e-01,\n",
       "       -4.00930535e-01, -4.58226522e-01, -5.13677392e-01, -5.67059864e-01,\n",
       "       -6.18158986e-01, -6.66769001e-01, -7.12694171e-01, -7.55749574e-01,\n",
       "       -7.95761841e-01, -8.32569855e-01, -8.66025404e-01, -8.95993774e-01,\n",
       "       -9.22354294e-01, -9.45000819e-01, -9.63842159e-01, -9.78802446e-01,\n",
       "       -9.89821442e-01, -9.96854776e-01, -9.99874128e-01, -9.98867339e-01,\n",
       "       -9.93838464e-01, -9.84807753e-01, -9.71811568e-01, -9.54902241e-01,\n",
       "       -9.34147860e-01, -9.09631995e-01, -8.81453363e-01, -8.49725430e-01,\n",
       "       -8.14575952e-01, -7.76146464e-01, -7.34591709e-01, -6.90079011e-01,\n",
       "       -6.42787610e-01, -5.92907929e-01, -5.40640817e-01, -4.86196736e-01,\n",
       "       -4.29794912e-01, -3.71662456e-01, -3.12033446e-01, -2.51147987e-01,\n",
       "       -1.89251244e-01, -1.26592454e-01, -6.34239197e-02, -2.44929360e-16])"
      ]
     },
     "execution_count": 49,
     "metadata": {},
     "output_type": "execute_result"
    }
   ],
   "source": [
    "from numpy import pi\n",
    "x = np.linspace( 0, 2*pi, 100, np.float64) # useful to evaluate function at lots of points\n",
    "f = np.sin(x)\n",
    "f"
   ]
  },
  {
   "cell_type": "code",
   "execution_count": 50,
   "metadata": {},
   "outputs": [],
   "source": [
    "j.set(\"f\", f)"
   ]
  },
  {
   "cell_type": "code",
   "execution_count": 51,
   "metadata": {
    "scrolled": true
   },
   "outputs": [
    {
     "data": {
      "text/plain": [
       "array([ 0.00000000e+00,  6.34239197e-02,  1.26592454e-01,  1.89251244e-01,\n",
       "        2.51147987e-01,  3.12033446e-01,  3.71662456e-01,  4.29794912e-01,\n",
       "        4.86196736e-01,  5.40640817e-01,  5.92907929e-01,  6.42787610e-01,\n",
       "        6.90079011e-01,  7.34591709e-01,  7.76146464e-01,  8.14575952e-01,\n",
       "        8.49725430e-01,  8.81453363e-01,  9.09631995e-01,  9.34147860e-01,\n",
       "        9.54902241e-01,  9.71811568e-01,  9.84807753e-01,  9.93838464e-01,\n",
       "        9.98867339e-01,  9.99874128e-01,  9.96854776e-01,  9.89821442e-01,\n",
       "        9.78802446e-01,  9.63842159e-01,  9.45000819e-01,  9.22354294e-01,\n",
       "        8.95993774e-01,  8.66025404e-01,  8.32569855e-01,  7.95761841e-01,\n",
       "        7.55749574e-01,  7.12694171e-01,  6.66769001e-01,  6.18158986e-01,\n",
       "        5.67059864e-01,  5.13677392e-01,  4.58226522e-01,  4.00930535e-01,\n",
       "        3.42020143e-01,  2.81732557e-01,  2.20310533e-01,  1.58001396e-01,\n",
       "        9.50560433e-02,  3.17279335e-02, -3.17279335e-02, -9.50560433e-02,\n",
       "       -1.58001396e-01, -2.20310533e-01, -2.81732557e-01, -3.42020143e-01,\n",
       "       -4.00930535e-01, -4.58226522e-01, -5.13677392e-01, -5.67059864e-01,\n",
       "       -6.18158986e-01, -6.66769001e-01, -7.12694171e-01, -7.55749574e-01,\n",
       "       -7.95761841e-01, -8.32569855e-01, -8.66025404e-01, -8.95993774e-01,\n",
       "       -9.22354294e-01, -9.45000819e-01, -9.63842159e-01, -9.78802446e-01,\n",
       "       -9.89821442e-01, -9.96854776e-01, -9.99874128e-01, -9.98867339e-01,\n",
       "       -9.93838464e-01, -9.84807753e-01, -9.71811568e-01, -9.54902241e-01,\n",
       "       -9.34147860e-01, -9.09631995e-01, -8.81453363e-01, -8.49725430e-01,\n",
       "       -8.14575952e-01, -7.76146464e-01, -7.34591709e-01, -6.90079011e-01,\n",
       "       -6.42787610e-01, -5.92907929e-01, -5.40640817e-01, -4.86196736e-01,\n",
       "       -4.29794912e-01, -3.71662456e-01, -3.12033446e-01, -2.51147987e-01,\n",
       "       -1.89251244e-01, -1.26592454e-01, -6.34239197e-02, -2.44929360e-16])"
      ]
     },
     "execution_count": 51,
     "metadata": {},
     "output_type": "execute_result"
    }
   ],
   "source": [
    "j.get(\"f\")"
   ]
  },
  {
   "cell_type": "code",
   "execution_count": 52,
   "metadata": {},
   "outputs": [],
   "source": [
    "r = np.random.random((2000,3000))\n",
    "r = np.asarray(r, dtype=np.float64)"
   ]
  },
  {
   "cell_type": "code",
   "execution_count": 53,
   "metadata": {
    "scrolled": true
   },
   "outputs": [
    {
     "data": {
      "text/plain": [
       "array([[0.48803493, 0.71574087, 0.61058575, ..., 0.18696229, 0.422858  ,\n",
       "        0.53540275],\n",
       "       [0.23849578, 0.93235976, 0.2833689 , ..., 0.05496995, 0.28149652,\n",
       "        0.89735059],\n",
       "       [0.04532816, 0.88377047, 0.06332905, ..., 0.76425672, 0.63124766,\n",
       "        0.45153171],\n",
       "       ...,\n",
       "       [0.81387824, 0.18493786, 0.06096382, ..., 0.53552815, 0.86927597,\n",
       "        0.45722508],\n",
       "       [0.18270948, 0.2653278 , 0.38160493, ..., 0.88681467, 0.49674754,\n",
       "        0.90102098],\n",
       "       [0.50820076, 0.40755109, 0.60549726, ..., 0.18075969, 0.78108373,\n",
       "        0.81694879]])"
      ]
     },
     "execution_count": 53,
     "metadata": {},
     "output_type": "execute_result"
    }
   ],
   "source": [
    "r"
   ]
  },
  {
   "cell_type": "code",
   "execution_count": 54,
   "metadata": {},
   "outputs": [],
   "source": [
    "j.set(\"r\", r)"
   ]
  },
  {
   "cell_type": "code",
   "execution_count": 55,
   "metadata": {},
   "outputs": [
    {
     "data": {
      "text/plain": [
       "array([[0.48803493, 0.71574087, 0.61058575, ..., 0.18696229, 0.422858  ,\n",
       "        0.53540275],\n",
       "       [0.23849578, 0.93235976, 0.2833689 , ..., 0.05496995, 0.28149652,\n",
       "        0.89735059],\n",
       "       [0.04532816, 0.88377047, 0.06332905, ..., 0.76425672, 0.63124766,\n",
       "        0.45153171],\n",
       "       ...,\n",
       "       [0.81387824, 0.18493786, 0.06096382, ..., 0.53552815, 0.86927597,\n",
       "        0.45722508],\n",
       "       [0.18270948, 0.2653278 , 0.38160493, ..., 0.88681467, 0.49674754,\n",
       "        0.90102098],\n",
       "       [0.50820076, 0.40755109, 0.60549726, ..., 0.18075969, 0.78108373,\n",
       "        0.81694879]])"
      ]
     },
     "execution_count": 55,
     "metadata": {},
     "output_type": "execute_result"
    }
   ],
   "source": [
    "j.get(\"r\")"
   ]
  },
  {
   "cell_type": "code",
   "execution_count": 56,
   "metadata": {},
   "outputs": [
    {
     "data": {
      "text/plain": [
       "(2000, 3000)"
      ]
     },
     "execution_count": 56,
     "metadata": {},
     "output_type": "execute_result"
    }
   ],
   "source": [
    "r.shape"
   ]
  },
  {
   "cell_type": "code",
   "execution_count": 57,
   "metadata": {},
   "outputs": [
    {
     "data": {
      "text/plain": [
       "(2000, 3000)"
      ]
     },
     "execution_count": 57,
     "metadata": {},
     "output_type": "execute_result"
    }
   ],
   "source": [
    "j.get(\"r\").shape"
   ]
  },
  {
   "cell_type": "code",
   "execution_count": 58,
   "metadata": {},
   "outputs": [
    {
     "data": {
      "text/plain": [
       "(6000000,)"
      ]
     },
     "execution_count": 58,
     "metadata": {},
     "output_type": "execute_result"
    }
   ],
   "source": [
    "j.dor(\"r=. ,r\")\n",
    "j.get(\"r\").shape"
   ]
  },
  {
   "cell_type": "code",
   "execution_count": 59,
   "metadata": {},
   "outputs": [
    {
     "data": {
      "text/plain": [
       "3000023.5741508002"
      ]
     },
     "execution_count": 59,
     "metadata": {},
     "output_type": "execute_result"
    }
   ],
   "source": [
    "r.sum()"
   ]
  },
  {
   "cell_type": "code",
   "execution_count": 60,
   "metadata": {},
   "outputs": [
    {
     "name": "stdout",
     "output_type": "stream",
     "text": [
      "6000\n",
      "6000\n"
     ]
    }
   ],
   "source": [
    "b = np.ones((5,300,4), dtype=np.int64)\n",
    "j.set(\"b\", b)\n",
    "b2 = j.get(\"b\")\n",
    "print(b.sum())\n",
    "print(b2.sum())"
   ]
  },
  {
   "cell_type": "markdown",
   "metadata": {},
   "source": [
    "### Some `NumPy` goodies of interest to J programmers\n",
    "\n",
    "Work in Progress - stay tuned."
   ]
  }
 ],
 "metadata": {
  "kernelspec": {
   "display_name": "Python 3",
   "language": "python",
   "name": "python3"
  },
  "language_info": {
   "codemirror_mode": {
    "name": "ipython",
    "version": 3
   },
   "file_extension": ".py",
   "mimetype": "text/x-python",
   "name": "python",
   "nbconvert_exporter": "python",
   "pygments_lexer": "ipython3",
   "version": "3.6.2"
  }
 },
 "nbformat": 4,
 "nbformat_minor": 2
}
